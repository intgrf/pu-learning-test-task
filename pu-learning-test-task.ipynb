{
 "cells": [
  {
   "cell_type": "markdown",
   "metadata": {},
   "source": [
    "## PU-learning"
   ]
  },
  {
   "cell_type": "code",
   "execution_count": 1,
   "metadata": {},
   "outputs": [],
   "source": [
    "import numpy as np\n",
    "from sklearn.linear_model import LogisticRegression\n",
    "from sklearn import datasets\n",
    "from sklearn.model_selection import train_test_split\n",
    "import matplotlib.pyplot as plt"
   ]
  },
  {
   "cell_type": "markdown",
   "metadata": {},
   "source": [
    "### Реализация метода"
   ]
  },
  {
   "cell_type": "code",
   "execution_count": 2,
   "metadata": {},
   "outputs": [],
   "source": [
    "def fit_and_predict(classifier, data, labels, X_predict):\n",
    "    \"\"\"\n",
    "        classifier - estimator of p(s = 1 | x)\n",
    "        data - gdataset to train \n",
    "        lables - indicates if example x is labled or not\n",
    "            if 1 then x is labled (hence x is positive)\n",
    "            if 0 then x isn't labled\n",
    "        X_predict - data to predict probability p(y = 1 | x)\n",
    "        \n",
    "        returns probability p(y = 1 | x)\n",
    "    \"\"\"\n",
    "    \n",
    "    X_train, X_test, y_train, y_test = train_test_split(data, labels, test_size = 0.33)\n",
    "    \n",
    "    classifier.fit(X_train, y_train)\n",
    "    \n",
    "    # estimating c = p(s = 1 | y = 1)\n",
    "    tmp_proba = classifier.predict_proba(X_test)[:,1]\n",
    "    c = np.amax(tmp_proba)\n",
    "    \n",
    "    predicted_proba = classifier.predict_proba(X_predict)[:,1]\n",
    "    \n",
    "    return predicted_proba / c"
   ]
  },
  {
   "cell_type": "markdown",
   "metadata": {},
   "source": [
    "### Пример\n",
    "\n",
    "Для демонстрации метода возьмем датасет с цифрами, написанными от руки.\n",
    "\n",
    "Допустим, по каким-то причинам нас интересуют только двойки. Тогда в качестве positive class ($y = 1$) возьмем двойки, остальные цифры будем относить к negative class ($y = 0$).\n",
    "\n",
    "По условию у нас есть частично размеченный датасет, при этом в размеченных примерах только positive class.\n",
    "\n",
    "Составим такой датасет:"
   ]
  },
  {
   "cell_type": "code",
   "execution_count": 3,
   "metadata": {},
   "outputs": [],
   "source": [
    "digits = datasets.load_digits()\n",
    "\n",
    "X, X_to_predict, y, y_to_predict = train_test_split(digits.images, digits.target, test_size = 0.33)\n",
    "\n",
    "positives_ind = np.where(y == 2)[0]\n",
    "labled_ind = np.random.choice(positives_ind, size= int(positives_ind.size*0.5))\n",
    "y[:] = 0\n",
    "y[labled_ind] = 1"
   ]
  },
  {
   "cell_type": "markdown",
   "metadata": {},
   "source": [
    "Фрагмент датасета:"
   ]
  },
  {
   "cell_type": "code",
   "execution_count": 16,
   "metadata": {},
   "outputs": [
    {
     "data": {
      "image/png": "[encoded data removed]",
      "text/plain": [
       "<Figure size 432x288 with 20 Axes>"
      ]
     },
     "metadata": {
      "needs_background": "light"
     },
     "output_type": "display_data"
    }
   ],
   "source": [
    "images_and_labels = list(zip(X, y))\n",
    "for index, (image, label) in enumerate(images_and_labels[62:82]):\n",
    "    plt.subplot(4, 10, index + 1)\n",
    "    plt.axis('off')\n",
    "    plt.imshow(image, cmap=plt.cm.gray_r, interpolation='nearest')\n",
    "    plt.title('s = %i' % label)"
   ]
  },
  {
   "cell_type": "markdown",
   "metadata": {},
   "source": [
    "В методе можно использовать любой классификатор, который может предсказывать вероятность, возьмем в качестве такого логистический:"
   ]
  },
  {
   "cell_type": "code",
   "execution_count": 17,
   "metadata": {},
   "outputs": [],
   "source": [
    "classifier = LogisticRegression(solver = 'lbfgs', multi_class = 'ovr')"
   ]
  },
  {
   "cell_type": "code",
   "execution_count": 18,
   "metadata": {},
   "outputs": [],
   "source": [
    "nsamples, nx, ny = X.shape\n",
    "data = X.reshape((nsamples, nx*ny))\n",
    "\n",
    "nsamples, nx, ny = X_to_predict.shape\n",
    "data_to_predict = X_to_predict.reshape((nsamples, nx*ny))"
   ]
  },
  {
   "cell_type": "markdown",
   "metadata": {},
   "source": [
    "Воспользуемся методом:"
   ]
  },
  {
   "cell_type": "code",
   "execution_count": 31,
   "metadata": {
    "collapsed": true
   },
   "outputs": [
    {
     "name": "stderr",
     "output_type": "stream",
     "text": [
      "/home/dasha/.local/lib/python3.6/site-packages/sklearn/linear_model/logistic.py:947: ConvergenceWarning: lbfgs failed to converge. Increase the number of iterations.\n",
      "  \"of iterations.\", ConvergenceWarning)\n"
     ]
    }
   ],
   "source": [
    "prob = fit_and_predict(classifier, data, y, data_to_predict)"
   ]
  },
  {
   "cell_type": "markdown",
   "metadata": {},
   "source": [
    "Будем считать, что объект относится к positive class, если предсказанная вероятность получилась больше 0.5"
   ]
  },
  {
   "cell_type": "code",
   "execution_count": 32,
   "metadata": {},
   "outputs": [],
   "source": [
    "predicted_positives = np.where(prob >= 0.5)[0]\n",
    "predicted_labels = np.zeros(y_to_predict.size)\n",
    "predicted_labels[predicted_positives] = 1\n",
    "\n",
    "pos_ind = np.where(y_to_predict == 2)[0]\n",
    "true_labels = np.zeros(len(y_to_predict))\n",
    "true_labels[pos_ind] = 1"
   ]
  },
  {
   "cell_type": "code",
   "execution_count": 33,
   "metadata": {},
   "outputs": [],
   "source": [
    "pos_ind = np.where(y_to_predict == 2)[0]\n",
    "true_labels = np.zeros(len(y_to_predict))\n",
    "true_labels[pos_ind] = 1"
   ]
  },
  {
   "cell_type": "markdown",
   "metadata": {},
   "source": [
    "Сравним с настоящими значениями классов:"
   ]
  },
  {
   "cell_type": "code",
   "execution_count": 34,
   "metadata": {},
   "outputs": [
    {
     "name": "stdout",
     "output_type": "stream",
     "text": [
      "[[537   2]\n",
      " [ 33  22]]\n"
     ]
    }
   ],
   "source": [
    "from sklearn import metrics\n",
    "conf_matrix = metrics.confusion_matrix(true_labels, predicted_labels)\n",
    "print(conf_matrix)"
   ]
  },
  {
   "cell_type": "code",
   "execution_count": 35,
   "metadata": {},
   "outputs": [
    {
     "name": "stdout",
     "output_type": "stream",
     "text": [
      "Accuracy: 0.9410774410774411\n"
     ]
    }
   ],
   "source": [
    "accuracy = metrics.accuracy_score(true_labels, predicted_labels)\n",
    "\n",
    "print('Accuracy:', accuracy)"
   ]
  }
 ],
 "metadata": {
  "kernelspec": {
   "display_name": "Python 3",
   "language": "python",
   "name": "python3"
  },
  "language_info": {
   "codemirror_mode": {
    "name": "ipython",
    "version": 3
   },
   "file_extension": ".py",
   "mimetype": "text/x-python",
   "name": "python",
   "nbconvert_exporter": "python",
   "pygments_lexer": "ipython3",
   "version": "3.6.8"
  }
 },
 "nbformat": 4,
 "nbformat_minor": 2
}
